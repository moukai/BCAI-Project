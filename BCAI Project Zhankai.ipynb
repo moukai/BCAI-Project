{
 "cells": [
  {
   "cell_type": "markdown",
   "id": "55c73bce",
   "metadata": {},
   "source": [
    "# Data Loading and Exploration"
   ]
  },
  {
   "cell_type": "code",
   "execution_count": null,
   "id": "f5cdec00",
   "metadata": {},
   "outputs": [],
   "source": [
    "import numpy as np\n",
    "import pandas as pd"
   ]
  },
  {
   "cell_type": "code",
   "execution_count": null,
   "id": "248adce3",
   "metadata": {},
   "outputs": [],
   "source": [
    "train_data = pd.read_csv('/Users/moukaii/Downloads/Data/Correctness/Correctness_Train.csv', index_col=0)\n",
    "test_data = pd.read_csv('/Users/moukaii/Downloads/Data/Correctness/Correctness_Test.csv', index_col=0)\n",
    "print('Train:{}   Test:{}'.format(train_data.shape, test_data.shape))\n",
    "train_data.head().iloc[:,0:7]\n",
    "#Only part of the data is shown below"
   ]
  },
  {
   "cell_type": "code",
   "execution_count": null,
   "id": "c0a145a5",
   "metadata": {},
   "outputs": [],
   "source": [
    "train_data.describe().iloc[:,0:5]\n",
    "#Only part of the data is shown below"
   ]
  },
  {
   "cell_type": "code",
   "execution_count": null,
   "id": "46e60bd5",
   "metadata": {
    "scrolled": true
   },
   "outputs": [],
   "source": [
    "%matplotlib inline\n",
    "import matplotlib\n",
    "import matplotlib.pyplot as plt\n",
    "train_data.hist(bins = 60, figsize = (20,20))\n",
    "plt.show()"
   ]
  },
  {
   "cell_type": "code",
   "execution_count": null,
   "id": "b82ff643",
   "metadata": {},
   "outputs": [],
   "source": [
    "import seaborn as sns\n",
    "plt.figure(figsize = (25,20))\n",
    "sns.heatmap(train_data.corr(), fmt = '.1f', cmap = 'coolwarm', annot = True)\n",
    "plt.show()"
   ]
  },
  {
   "cell_type": "code",
   "execution_count": null,
   "id": "6b4a71b1",
   "metadata": {},
   "outputs": [],
   "source": [
    "fig = plt.figure(figsize = (14,8))\n",
    "abs(train_data.corr()['correctness']).sort_values(ascending = False).plot.bar()\n",
    "plt.xticks(fontsize = 20)\n",
    "plt.yticks(fontsize = 20)\n",
    "plt.show()"
   ]
  },
  {
   "cell_type": "code",
   "execution_count": null,
   "id": "9badd317",
   "metadata": {},
   "outputs": [],
   "source": [
    "from scipy import stats\n",
    "from scipy.stats import norm\n",
    "dis = sns.displot(train_data['correctness'], kde = True)\n",
    "dislog = sns.displot(np.log1p(train_data['correctness']), kde = True)"
   ]
  },
  {
   "cell_type": "code",
   "execution_count": null,
   "id": "be191478",
   "metadata": {
    "scrolled": true
   },
   "outputs": [],
   "source": [
    "from scipy import stats\n",
    "from scipy.stats import norm\n",
    "trainVar = np.log1p(train_data.pop('correctness'))\n",
    "testVar = test_data.pop('correctness')\n",
    "#trainVar_means=trainVar.mean()\n",
    "#trainVar_std=trainVar.std()\n",
    "#trainVar= (trainVar - trainVar_means)/trainVar_std\n",
    "#trainVar=1.0 / (1.0 + np.exp(trainVar))\n",
    "trainVar.head()"
   ]
  },
  {
   "cell_type": "code",
   "execution_count": null,
   "id": "b2a741ba",
   "metadata": {},
   "outputs": [],
   "source": [
    "from scipy import stats\n",
    "from scipy.stats import norm\n",
    "dis = sns.displot(trainVar, kde = True)"
   ]
  },
  {
   "cell_type": "markdown",
   "id": "0a8fc8e9",
   "metadata": {},
   "source": [
    "# Data Processing and Feature Engineering"
   ]
  },
  {
   "cell_type": "markdown",
   "id": "36299903",
   "metadata": {},
   "source": [
    "Firstly, transforming some numerical variables that are really categorical."
   ]
  },
  {
   "cell_type": "code",
   "execution_count": null,
   "id": "cdc8a732",
   "metadata": {},
   "outputs": [],
   "source": [
    "combined_data = pd.concat([train_data,test_data], axis = 0)\n",
    "combined_data.head()\n",
    "combined_data.shape"
   ]
  },
  {
   "cell_type": "markdown",
   "id": "b90f42e5",
   "metadata": {},
   "source": [
    "## Standardization"
   ]
  },
  {
   "cell_type": "code",
   "execution_count": null,
   "id": "26770ba5",
   "metadata": {},
   "outputs": [],
   "source": [
    "numericVar = combined_data.columns[combined_data.dtypes != 'object']\n",
    "numericVar_means = combined_data.loc[:,numericVar].mean()\n",
    "numericVar_std = combined_data.loc[:,numericVar].std()\n",
    "combined_data.loc[:,numericVar] = (combined_data.loc[:,numericVar] - numericVar_means)/numericVar_std\n",
    "combined_data.head()\n",
    "#Only part of the data is shown below"
   ]
  },
  {
   "cell_type": "code",
   "execution_count": null,
   "id": "a43cec1a",
   "metadata": {},
   "outputs": [],
   "source": [
    "new_train_data = combined_data.loc[train_data.index]\n",
    "new_test_data = combined_data.loc[test_data.index]\n",
    "print('New Train:{}   New Test:{}'.format(new_train_data.shape, new_test_data.shape))"
   ]
  },
  {
   "cell_type": "markdown",
   "id": "8ec933e4",
   "metadata": {},
   "source": [
    "# Model Establishment and Training"
   ]
  },
  {
   "cell_type": "markdown",
   "id": "f8c90573",
   "metadata": {},
   "source": [
    "## Ridge Regression"
   ]
  },
  {
   "cell_type": "code",
   "execution_count": null,
   "id": "4356ecde",
   "metadata": {},
   "outputs": [],
   "source": [
    "from sklearn.linear_model import Ridge\n",
    "from sklearn.model_selection import cross_val_score, KFold, train_test_split\n",
    "array_train = new_train_data.values\n",
    "array_test = new_test_data.values"
   ]
  },
  {
   "cell_type": "markdown",
   "id": "1872b612",
   "metadata": {},
   "source": [
    "Cross validation is added to prevent model overfitting"
   ]
  },
  {
   "cell_type": "code",
   "execution_count": null,
   "id": "400ccf8d",
   "metadata": {},
   "outputs": [],
   "source": [
    "lambda_k = np.logspace(1.5,2.5,100)\n",
    "test_scores = []\n",
    "n_folds = 100\n",
    "for k in lambda_k:\n",
    "    clf = Ridge(k)\n",
    "    kf = KFold(n_folds, shuffle=True, random_state=40).get_n_splits(array_train)\n",
    "    test_score = np.sqrt(-cross_val_score(clf,array_train,trainVar,cv=kf,scoring='neg_mean_squared_error'))\n",
    "    test_scores.append(np.mean(test_score))"
   ]
  },
  {
   "cell_type": "code",
   "execution_count": null,
   "id": "168eb935",
   "metadata": {},
   "outputs": [],
   "source": [
    "plt.plot(lambda_k,test_scores)\n",
    "plt.title('Ridge Parameter - Cross Validation Error')"
   ]
  },
  {
   "cell_type": "markdown",
   "id": "e0485264",
   "metadata": {},
   "source": [
    "By observing the score, the optimal value of the parameter can be determined."
   ]
  },
  {
   "cell_type": "markdown",
   "id": "873ac3b5",
   "metadata": {},
   "source": [
    "## Random Forest"
   ]
  },
  {
   "cell_type": "code",
   "execution_count": null,
   "id": "4cd29908",
   "metadata": {},
   "outputs": [],
   "source": [
    "from sklearn.ensemble import RandomForestRegressor\n",
    "rfpall = [.1,.2,.25,.3,.35,.4,.99]\n",
    "test_scores = []\n",
    "for rfp in rfpall:\n",
    "    clf = RandomForestRegressor(n_estimators = 400,max_features = rfp)\n",
    "    test_score = np.sqrt(-cross_val_score(clf,array_train,trainVar,cv = 5,scoring = 'neg_mean_squared_error'))\n",
    "    test_scores.append(np.mean(test_score))\n",
    "plt.plot(rfpall,test_scores)\n",
    "plt.title('Max Features - Error')\n",
    "plt.show()"
   ]
  },
  {
   "cell_type": "markdown",
   "id": "dbf3fd71",
   "metadata": {},
   "source": [
    "By observing the score, the optimal value of the parameter can be determined."
   ]
  },
  {
   "cell_type": "markdown",
   "id": "2c1b046d",
   "metadata": {},
   "source": [
    "## Averaging Predictions\n"
   ]
  },
  {
   "cell_type": "code",
   "execution_count": null,
   "id": "be2e8b45",
   "metadata": {},
   "outputs": [],
   "source": [
    "ridge = Ridge(alpha = 220)\n",
    "rf = RandomForestRegressor(n_estimators = 400,max_features = .4)\n",
    "ridge.fit(array_train,trainVar)\n",
    "rf.fit(array_train,trainVar)\n",
    "\n",
    "y_ridge = np.expm1(ridge.predict(array_test))\n",
    "y_rf = np.expm1(rf.predict(array_test))\n",
    "\n",
    "y_hat = (y_ridge + y_rf) / 2"
   ]
  },
  {
   "cell_type": "code",
   "execution_count": null,
   "id": "c459c2a0",
   "metadata": {},
   "outputs": [],
   "source": [
    "results = pd.DataFrame(data = {'Id':test_data.index,'Correctness':y_hat})\n",
    "results.head()\n",
    "#Only part of the data is shown below"
   ]
  },
  {
   "cell_type": "code",
   "execution_count": null,
   "id": "643ce82e",
   "metadata": {},
   "outputs": [],
   "source": [
    "accuracy_model=np.corrcoef(results['Correctness'], testVar)\n",
    "accuracy_model"
   ]
  }
 ],
 "metadata": {
  "kernelspec": {
   "display_name": "Python 3.8.8 ('base')",
   "language": "python",
   "name": "python3"
  },
  "language_info": {
   "codemirror_mode": {
    "name": "ipython",
    "version": 3
   },
   "file_extension": ".py",
   "mimetype": "text/x-python",
   "name": "python",
   "nbconvert_exporter": "python",
   "pygments_lexer": "ipython3",
   "version": "3.8.8"
  },
  "toc": {
   "base_numbering": 1,
   "nav_menu": {},
   "number_sections": true,
   "sideBar": true,
   "skip_h1_title": false,
   "title_cell": "Table of Contents",
   "title_sidebar": "Contents",
   "toc_cell": true,
   "toc_position": {
    "height": "calc(100% - 180px)",
    "left": "10px",
    "top": "150px",
    "width": "165px"
   },
   "toc_section_display": true,
   "toc_window_display": true
  },
  "vscode": {
   "interpreter": {
    "hash": "d674317ec48fb2984323980253796586dfd4d18af24aac48847d9df37d056636"
   }
  }
 },
 "nbformat": 4,
 "nbformat_minor": 5
}
